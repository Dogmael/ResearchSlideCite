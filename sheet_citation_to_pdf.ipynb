{
 "cells": [
  {
   "cell_type": "code",
   "execution_count": 4,
   "metadata": {},
   "outputs": [],
   "source": [
    "import pandas as pd\n",
    "from scholarly import scholarly\n",
    "import requests\n",
    "import os\n",
    "import time\n",
    "from urllib.parse import quote\n",
    "import json\n"
   ]
  },
  {
   "cell_type": "code",
   "execution_count": 5,
   "metadata": {},
   "outputs": [],
   "source": [
    "def clean_filename(title):\n",
    "    \"\"\"Clean the filename from invalid characters\"\"\"\n",
    "    return \"\".join(c for c in title if c.isalnum() or c in (\" \", \"-\", \"_\")).rstrip()\n",
    "\n",
    "\n",
    "def get_paper_info(citation):\n",
    "    \"\"\"Search paper on Google Scholar and get first result\"\"\"\n",
    "    try:\n",
    "        # Search for the paper\n",
    "        search_query = scholarly.search_pubs(citation)\n",
    "        paper = next(search_query)\n",
    "\n",
    "        return {\n",
    "            \"title\": paper.get(\"title\"),\n",
    "            \"url\": paper.get(\"pub_url\"),\n",
    "            \"year\": paper.get(\"year\"),\n",
    "            \"doi\": paper.get(\"doi\", \"\"),\n",
    "            \"citation\": citation,\n",
    "        }\n",
    "    except Exception as e:\n",
    "        print(f\"Error searching for {citation}: {str(e)}\")\n",
    "        return None\n"
   ]
  },
  {
   "cell_type": "code",
   "execution_count": null,
   "metadata": {},
   "outputs": [],
   "source": [
    "# Soit DOI retourné par google scholar, soit DOI recherché sur la page de l'article\n"
   ]
  },
  {
   "cell_type": "code",
   "execution_count": 6,
   "metadata": {},
   "outputs": [
    {
     "name": "stdout",
     "output_type": "stream",
     "text": [
      "{'title': None, 'url': 'https://iopscience.iop.org/article/10.1149/2.0041803jes/meta', 'year': None, 'doi': '', 'citation': 'K.J. Nelson et al. Journal of the electrochemical society, 165, 2018'}\n"
     ]
    }
   ],
   "source": [
    "article_title = \"K.J. Nelson et al. Journal of the electrochemical society, 165, 2018\"\n",
    "\n",
    "print(get_paper_info(article_title))"
   ]
  },
  {
   "cell_type": "code",
   "execution_count": null,
   "metadata": {},
   "outputs": [],
   "source": [
    "\n",
    "\n",
    "def main():\n",
    "    # Read the Excel file\n",
    "    df = pd.read_excel(\"ocr_results.xlsx\")\n",
    "\n",
    "    # Create papers directory if it doesn't exist\n",
    "    if not os.path.exists(\"papers\"):\n",
    "        os.makedirs(\"papers\")\n",
    "\n",
    "    # Dictionary to store paper information\n",
    "    papers_info = []\n",
    "\n",
    "    # Process each citation\n",
    "    for citation in df[\"Citation\"]:\n",
    "        print(f\"\\nProcessing: {citation}\")\n",
    "\n",
    "        # Get paper info from Google Scholar\n",
    "        paper_info = get_paper_info(citation)\n",
    "\n",
    "        if paper_info:\n",
    "            papers_info.append(paper_info)\n",
    "            print(f\"Found: {paper_info['title']}\")\n",
    "\n",
    "        # Sleep to avoid hitting rate limits\n",
    "        time.sleep(2)\n",
    "\n",
    "    # Save paper information to JSON\n",
    "    with open(\"papers_info.json\", \"w\") as f:\n",
    "        json.dump(papers_info, f, indent=2)\n",
    "\n",
    "    print(\"\\nPaper information has been saved to papers_info.json\")\n",
    "\n",
    "\n",
    "if __name__ == \"__main__\":\n",
    "    main()"
   ]
  }
 ],
 "metadata": {
  "kernelspec": {
   "display_name": ".venv",
   "language": "python",
   "name": "python3"
  },
  "language_info": {
   "codemirror_mode": {
    "name": "ipython",
    "version": 3
   },
   "file_extension": ".py",
   "mimetype": "text/x-python",
   "name": "python",
   "nbconvert_exporter": "python",
   "pygments_lexer": "ipython3",
   "version": "3.9.6"
  }
 },
 "nbformat": 4,
 "nbformat_minor": 2
}
