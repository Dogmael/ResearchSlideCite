{
 "cells": [
  {
   "cell_type": "code",
   "execution_count": 2,
   "metadata": {},
   "outputs": [],
   "source": [
    "import json\n",
    "import pandas as pd"
   ]
  },
  {
   "cell_type": "code",
   "execution_count": 3,
   "metadata": {},
   "outputs": [
    {
     "name": "stdout",
     "output_type": "stream",
     "text": [
      "    Course number                                           Citation  \\\n",
      "15              3  D. Guyomard and J.M. Tarascon, J. Electrochem....   \n",
      "20              3  A. Blyr, C. Sigala et al. Jr. Electrochemical ...   \n",
      "57              3        P. Poizot et al. Nature, 407, 496-499, 2000   \n",
      "48              3  X. Ma... et al. Journal of the electrochemical...   \n",
      "47              3  K.J. Nelson et al. Journal of the electrochemi...   \n",
      "..            ...                                                ...   \n",
      "68             11               Z. Deng, et al. Joule 4, 1-13 (2020)   \n",
      "99             11  A.G. Hsieh et al. Energy Environ. Sci; (2015) ...   \n",
      "73             11  AG Hsieh et al., Energy Environ. Sci. 8, 1569-...   \n",
      "4              11  L Gold et al.. J. Power Sources. 343 536-544 (...   \n",
      "35             11  P Ladpli, F Kopsaftopoulos, F-K Chang, J. Powe...   \n",
      "\n",
      "                                                  URL  \n",
      "15  https://www.youtube.com/watch?v=WEB4N4xbAhI&t=210  \n",
      "20  https://www.youtube.com/watch?v=WEB4N4xbAhI&t=360  \n",
      "57  https://www.youtube.com/watch?v=WEB4N4xbAhI&t=690  \n",
      "48  https://www.youtube.com/watch?v=WEB4N4xbAhI&t=810  \n",
      "47  https://www.youtube.com/watch?v=WEB4N4xbAhI&t=990  \n",
      "..                                                ...  \n",
      "68  https://www.youtube.com/watch?v=-yqPZQYYwiI&t=...  \n",
      "99  https://www.youtube.com/watch?v=-yqPZQYYwiI&t=...  \n",
      "73  https://www.youtube.com/watch?v=-yqPZQYYwiI&t=...  \n",
      "4   https://www.youtube.com/watch?v=-yqPZQYYwiI&t=...  \n",
      "35  https://www.youtube.com/watch?v=-yqPZQYYwiI&t=...  \n",
      "\n",
      "[101 rows x 3 columns]\n"
     ]
    }
   ],
   "source": [
    "# Process OCR results\n",
    "with open(\"ocr_results_clean.json\", \"r\") as f:\n",
    "    ocr_results = json.load(f)\n",
    "\n",
    "# Make a dataframe with the results\n",
    "df = pd.DataFrame(ocr_results.items(), columns=[\"image\", \"text\"])\n",
    "\n",
    "video_urls = {\n",
    "    'cours 3': 'https://www.youtube.com/watch?v=WEB4N4xbAhI',\n",
    "    'cours 5': 'https://www.youtube.com/watch?v=-tdC1Y4Wo2Y',\n",
    "    'cours 7': 'https://www.youtube.com/watch?v=t90r_MMmHdQ',\n",
    "    'cours 9': 'https://www.youtube.com/watch?v=ufLx_7YafmM',\n",
    "    'cours 11': 'https://www.youtube.com/watch?v=-yqPZQYYwiI'\n",
    "}\n",
    "\n",
    "# Add a column with the video url\n",
    "df['video_url'] = df['image'].apply(lambda x: video_urls[\" \".join(x.split(\"_\")[0:2])])\n",
    "\n",
    "# Add time of the video in url (the number at the end of the url) at the end of the url (youtube url)\n",
    "df['video_time'] = df['image'].apply(lambda x: int(x.split(\"_\")[-1].split(\".\")[0])*30)\n",
    "\n",
    "# Add a column with the video url with the time\n",
    "df['video_url_with_time'] = df['video_url'] + \"&t=\" + df['video_time'].astype(str)\n",
    "\n",
    "# Add the name of the course to the dataframe\n",
    "df['Course number'] = df['image'].apply(lambda x: (x.split(\"_\")[1])).astype(int)\n",
    "\n",
    "# Add sort column\n",
    "df = df.sort_values(by=['Course number', 'video_time'], ascending=[True, True])\n",
    "\n",
    "# Select the columns we want\n",
    "df = df[['Course number', 'text', 'video_url_with_time']]\n",
    "\n",
    "df = df.rename(columns={\"text\": \"Citation\", \"video_url_with_time\": \"URL\"})\n",
    "\n",
    "print(df)\n",
    "\n",
    "df.to_excel(\"ocr_results.xlsx\", index=False)\n"
   ]
  }
 ],
 "metadata": {
  "kernelspec": {
   "display_name": ".venv",
   "language": "python",
   "name": "python3"
  },
  "language_info": {
   "codemirror_mode": {
    "name": "ipython",
    "version": 3
   },
   "file_extension": ".py",
   "mimetype": "text/x-python",
   "name": "python",
   "nbconvert_exporter": "python",
   "pygments_lexer": "ipython3",
   "version": "3.9.6"
  }
 },
 "nbformat": 4,
 "nbformat_minor": 2
}
