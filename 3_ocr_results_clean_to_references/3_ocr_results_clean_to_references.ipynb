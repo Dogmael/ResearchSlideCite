{
 "cells": [
  {
   "cell_type": "code",
   "execution_count": 1,
   "metadata": {},
   "outputs": [],
   "source": [
    "import json\n",
    "import pandas as pd"
   ]
  },
  {
   "cell_type": "code",
   "execution_count": null,
   "metadata": {},
   "outputs": [],
   "source": [
    "# Process OCR results\n",
    "with open(\"../2_relevant_screenshots_to_ocr_result/ocr_results_clean.json\", \"r\") as f:\n",
    "    ocr_results = json.load(f)\n",
    "\n",
    "# Make a dataframe with the results\n",
    "df = pd.DataFrame(ocr_results.items(), columns=[\"image\", \"text\"])\n",
    "\n",
    "video_urls = {\n",
    "    'cours 3': 'https://www.youtube.com/watch?v=WEB4N4xbAhI',\n",
    "    'cours 5': 'https://www.youtube.com/watch?v=-tdC1Y4Wo2Y',\n",
    "    'cours 7': 'https://www.youtube.com/watch?v=t90r_MMmHdQ',\n",
    "    'cours 9': 'https://www.youtube.com/watch?v=ufLx_7YafmM',\n",
    "    'cours 11': 'https://www.youtube.com/watch?v=-yqPZQYYwiI'\n",
    "}\n",
    "\n",
    "# Add a column with the video url\n",
    "df['video_url'] = df['image'].apply(lambda x: video_urls[\" \".join(x.split(\"_\")[0:2])])\n",
    "\n",
    "# Add time of the video in url (the number at the end of the url) at the end of the url (youtube url)\n",
    "df['video_time'] = df['image'].apply(lambda x: int(x.split(\"_\")[-1].split(\".\")[0])*30)\n",
    "\n",
    "# Add a column with the video url with the time\n",
    "df['video_url_with_time'] = df['video_url'] + \"&t=\" + df['video_time'].astype(str)\n",
    "\n",
    "# Add the name of the course to the dataframe\n",
    "df['Course number'] = df['image'].apply(lambda x: (x.split(\"_\")[1])).astype(int)\n",
    "\n",
    "# Add sort column\n",
    "df = df.sort_values(by=['Course number', 'video_time'], ascending=[True, True])\n",
    "\n",
    "# Add an ID with the course number and the video time\n",
    "df['ID'] = df['Course number'].astype(str) + \"_\" + df['video_time'].astype(str)\n",
    "\n",
    "# Select the columns we want\n",
    "df = df[['ID', 'Course numsber', 'text', 'video_url_with_time']]\n",
    "\n",
    "# Rename the columns\n",
    "df = df.rename(columns={\"text\": \"Reference\", \"video_url_with_time\": \"URL\"})\n",
    "\n",
    "# Save to csv\n",
    "df.to_csv(\"references_without_doi.csv\", index=False)\n"
   ]
  }
 ],
 "metadata": {
  "kernelspec": {
   "display_name": ".venv",
   "language": "python",
   "name": "python3"
  },
  "language_info": {
   "codemirror_mode": {
    "name": "ipython",
    "version": 3
   },
   "file_extension": ".py",
   "mimetype": "text/x-python",
   "name": "python",
   "nbconvert_exporter": "python",
   "pygments_lexer": "ipython3",
   "version": "3.13.1"
  }
 },
 "nbformat": 4,
 "nbformat_minor": 2
}
