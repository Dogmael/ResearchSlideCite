{
 "cells": [
  {
   "cell_type": "code",
   "execution_count": 2,
   "metadata": {},
   "outputs": [],
   "source": [
    "import pandas as pd\n",
    "from scholarly import scholarly\n",
    "from habanero import Crossref\n",
    "import os\n",
    "import time"
   ]
  },
  {
   "cell_type": "markdown",
   "metadata": {},
   "source": [
    "# Get article information from Google Scholar (author, year, title) and then use Crossref to get the DOI with those informations"
   ]
  },
  {
   "cell_type": "code",
   "execution_count": 3,
   "metadata": {},
   "outputs": [],
   "source": [
    "def get_doi_from_query(query, email=\"votre_adresse@email.com\"):\n",
    "    \"\"\"\n",
    "    Recherche la première publication correspondant à 'query' sur Google Scholar,\n",
    "    puis tente d'obtenir son DOI via l'API Crossref.\n",
    "    \n",
    "    Paramètres:\n",
    "    -----------\n",
    "    - query : str\n",
    "        La requête à envoyer à Google Scholar (ex: titre, auteurs, mots-clés...).\n",
    "    - email : str\n",
    "        Adresse e-mail de contact pour l'API Crossref (optionnel).\n",
    "    \n",
    "    Retourne:\n",
    "    ---------\n",
    "    - Le DOI (sous forme de chaîne) s'il est trouvé, sinon None.\n",
    "    \"\"\"\n",
    "    # Étape 1 : Recherche sur Google Scholar\n",
    "    search_results = scholarly.search_pubs(query, patents=False)\n",
    "\n",
    "    try:\n",
    "        # On récupère le premier résultat\n",
    "        first_result = next(search_results)\n",
    "    except StopIteration:\n",
    "        print(\"Aucun résultat trouvé sur Google Scholar.\")\n",
    "        return None\n",
    "\n",
    "    # Extraction des champs utiles (auteur, année, titre)\n",
    "    authors = first_result[\"bib\"].get(\"author\", [])\n",
    "    pub_year = first_result[\"bib\"].get(\"pub_year\", \"\")\n",
    "    title = first_result[\"bib\"].get(\"title\", \"\")\n",
    "    \n",
    "    # Étape 2 : Interrogation de Crossref\n",
    "    cr = Crossref(mailto=email)\n",
    "    \n",
    "    # Construction d'une requête basée sur auteur(s), année et titre\n",
    "    # On joint les auteurs avec une virgule et on ajoute le titre entre guillemets\n",
    "    crossref_query = f\"{', '.join(authors)} {pub_year} \\\"{title}\\\"\"\n",
    "    \n",
    "    try:\n",
    "        # On limite à 1 résultat et on demande uniquement le champ DOI\n",
    "        response = cr.works(query=crossref_query, limit=1, select=\"DOI\")\n",
    "        doi = response[\"message\"][\"items\"][0][\"DOI\"]\n",
    "        # Préfixe optionnel si vous souhaitez renvoyer l'URL complète du DOI\n",
    "        doi_url = \"https://doi.org/\" + doi\n",
    "        print(f\"DOI found for {query}: {doi_url}\")\n",
    "        return doi_url\n",
    "    except Exception as e:\n",
    "        print(\"Impossible de récupérer le DOI sur Crossref :\", e)\n",
    "        return None\n",
    "\n"
   ]
  },
  {
   "cell_type": "markdown",
   "metadata": {},
   "source": [
    "# Get DOI and save to references_with_doi.csv"
   ]
  },
  {
   "cell_type": "code",
   "execution_count": null,
   "metadata": {},
   "outputs": [],
   "source": [
    "# Import the sheet\n",
    "df = pd.read_csv(\"../3_ocr_results_clean_to_references/references_without_doi.csv\")\n",
    "\n",
    "# Add a column with the DOI\n",
    "df['DOI'] = \"\"\n",
    "\n",
    "# Create the references_with_doi.csv file if it doesn't exist\n",
    "if not os.path.exists(\"references_with_doi.csv\"):\n",
    "    df.to_csv(\"references_with_doi.csv\", index=False)\n",
    "    print(\"File created\")\n",
    "else:\n",
    "    print(\"File already exists\")\n",
    "\n",
    "# Complet the sheet_with_doi.csv file with the DOI\n",
    "for index, row in df.iterrows():    \n",
    "    if pd.isna(row['DOI']):\n",
    "        print(f\"Searching DOI for {row['Reference']}\")\n",
    "        df.at[index, 'DOI'] = get_doi_from_query(row['Reference'])\n",
    "        df.to_csv(\"references_with_doi.csv\", index=False)\n",
    "        # Wait 10 seconds\n",
    "        time.sleep(10)\n",
    "    else:\n",
    "        print(f\"DOI already found for {row['Reference']}\")"
   ]
  }
 ],
 "metadata": {
  "kernelspec": {
   "display_name": ".venv",
   "language": "python",
   "name": "python3"
  },
  "language_info": {
   "codemirror_mode": {
    "name": "ipython",
    "version": 3
   },
   "file_extension": ".py",
   "mimetype": "text/x-python",
   "name": "python",
   "nbconvert_exporter": "python",
   "pygments_lexer": "ipython3",
   "version": "3.13.1"
  }
 },
 "nbformat": 4,
 "nbformat_minor": 2
}
